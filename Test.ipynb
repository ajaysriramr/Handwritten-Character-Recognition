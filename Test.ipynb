{
 "cells": [
  {
   "cell_type": "code",
   "execution_count": 1,
   "id": "41a19df7-3a0e-48da-87a6-dc8adbbc6196",
   "metadata": {},
   "outputs": [
    {
     "name": "stdout",
     "output_type": "stream",
     "text": [
      "importing Jupyter notebook from Train.ipynb\n"
     ]
    }
   ],
   "source": [
    "import import_ipynb\n",
    "import Train as tr"
   ]
  },
  {
   "cell_type": "code",
   "execution_count": 2,
   "id": "32239a99-069f-42eb-817c-16d6bc217389",
   "metadata": {},
   "outputs": [],
   "source": [
    "import keras\n",
    "import numpy as np\n",
    "from sklearn.metrics import accuracy_score"
   ]
  },
  {
   "cell_type": "code",
   "execution_count": 4,
   "id": "45a5b9df-a413-413d-a58f-7d50f4c63b4c",
   "metadata": {},
   "outputs": [
    {
     "name": "stderr",
     "output_type": "stream",
     "text": [
      "2022-04-20 12:25:29.084363: W tensorflow/stream_executor/platform/default/dso_loader.cc:64] Could not load dynamic library 'libcuda.so.1'; dlerror: libcuda.so.1: cannot open shared object file: No such file or directory; LD_LIBRARY_PATH: /opt/slurm/lib64:/opt/slurm/lib64:\n",
      "2022-04-20 12:25:29.084422: W tensorflow/stream_executor/cuda/cuda_driver.cc:269] failed call to cuInit: UNKNOWN ERROR (303)\n",
      "2022-04-20 12:25:29.084468: I tensorflow/stream_executor/cuda/cuda_diagnostics.cc:156] kernel driver does not appear to be running on this host (c0704a-s1.ufhpc): /proc/driver/nvidia/version does not exist\n",
      "2022-04-20 12:25:29.084849: I tensorflow/core/platform/cpu_feature_guard.cc:151] This TensorFlow binary is optimized with oneAPI Deep Neural Network Library (oneDNN) to use the following CPU instructions in performance-critical operations:  SSE4.1 SSE4.2 AVX AVX2 FMA\n",
      "To enable them in other operations, rebuild TensorFlow with the appropriate compiler flags.\n"
     ]
    }
   ],
   "source": [
    "X_test = tr.preprocess(\"data_test.npy\") # Change the name of the easy data set as the input to preprocess function\n",
    "X_test = X_test.reshape((X_test.shape[0], 50, 50, 1)).astype('float32')\n",
    "model = keras.models.load_model(\"final_model_with_norm.h5\")\n",
    "y_predicted = model.predict(X_test)\n",
    "y_predicted = np.argmax(y_predicted,axis = 1) "
   ]
  },
  {
   "cell_type": "code",
   "execution_count": null,
   "id": "5bd4850b-257e-4af9-bb89-3edc28d17509",
   "metadata": {},
   "outputs": [],
   "source": [
    "y_test = np.load(\"labels_test.npy\") # Change the name of the easy data set's labels as the input to load function\n",
    "print(\"Accuracy of the test set = \", accuracy_score(y_test,y_predicted))"
   ]
  }
 ],
 "metadata": {
  "kernelspec": {
   "display_name": "Python 3 (ipykernel)",
   "language": "python",
   "name": "python3"
  },
  "language_info": {
   "codemirror_mode": {
    "name": "ipython",
    "version": 3
   },
   "file_extension": ".py",
   "mimetype": "text/x-python",
   "name": "python",
   "nbconvert_exporter": "python",
   "pygments_lexer": "ipython3",
   "version": "3.9.11"
  }
 },
 "nbformat": 4,
 "nbformat_minor": 5
}
